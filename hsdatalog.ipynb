{
 "cells": [
  {
   "cell_type": "code",
   "execution_count": null,
   "metadata": {},
   "outputs": [],
   "source": [
    "import pandas as pd\n",
    "from st_hsdatalog.HSD.HSDatalog import HSDatalog\n",
    "\n",
    "from acquisitioninfo import AcquisitionInfo\n",
    "from deviceconfig import Device\n",
    "from data import ComponentData\n",
    "\n",
    "LF = \"\\n\""
   ]
  },
  {
   "cell_type": "code",
   "execution_count": null,
   "metadata": {},
   "outputs": [],
   "source": [
    "hsdatalog_factory = HSDatalog()\n",
    "hsdatalog_factory"
   ]
  },
  {
   "cell_type": "code",
   "execution_count": null,
   "metadata": {},
   "outputs": [],
   "source": [
    "hsd = hsdatalog_factory.create_hsd(\"../logs/20240212_12_44_00\")\n",
    "\n",
    "interface = hsd.components_dtdl\n",
    "component = interface[\"lsm6dsv16x_acc\"]\n",
    "display(component)"
   ]
  },
  {
   "cell_type": "code",
   "execution_count": null,
   "metadata": {},
   "outputs": [],
   "source": [
    "\n",
    "acq = AcquisitionInfo.model_validate(hsd.get_acquisition_info())\n",
    "acq"
   ]
  },
  {
   "cell_type": "code",
   "execution_count": null,
   "metadata": {},
   "outputs": [],
   "source": [
    "print(hsd.get_device())\n",
    "device = Device.model_validate(hsd.get_device())\n",
    "\n",
    "components = device.get_components()\n",
    "components"
   ]
  },
  {
   "cell_type": "code",
   "execution_count": null,
   "metadata": {},
   "outputs": [],
   "source": [
    "with_data_frames = tuple({\"name\": sensor.name, \"sensor\": sensor, \"data_frame\": hsd.get_dataframe(sensor.name, labeled=False)} for sensor in components)\n",
    "\n",
    "component_data = tuple(\n",
    "    ComponentData(item[\"name\"], item[\"sensor\"], item[\"data_frame\"]) for item in with_data_frames\n",
    ")\n",
    "\n",
    "component_data"
   ]
  },
  {
   "cell_type": "code",
   "execution_count": null,
   "metadata": {},
   "outputs": [],
   "source": [
    "# ComponentData.collate(component_data)"
   ]
  },
  {
   "cell_type": "code",
   "execution_count": null,
   "metadata": {},
   "outputs": [],
   "source": [
    "# tag_set = acq.tag_set()\n",
    "# tag_set"
   ]
  },
  {
   "cell_type": "code",
   "execution_count": null,
   "metadata": {},
   "outputs": [],
   "source": [
    "# grouped_by_tag = {\n",
    "#     key: [] for key in tag_set\n",
    "# }\n",
    "\n",
    "# def group_by_key_fn(data_frame: pd.DataFrame):\n",
    "#     def group_by_key(index: int) -> str:\n",
    "#         for tag in tag_set:\n",
    "#             col = data_frame[tag]\n",
    "            \n",
    "#             if col[index]:\n",
    "#                 return tag\n",
    "\n",
    "#     return group_by_key\n",
    "\n",
    "# for item in component_data:\n",
    "#     data_frame = item.data\n",
    "#     group_by = data_frame.groupby(by=group_by_key_fn(data_frame))\n",
    "\n",
    "#     for name, data_frame in group_by:\n",
    "#         grouped_by_tag[name].append(ComponentData(item.name, item.component, data_frame.drop(columns=tag_set)))\n",
    "\n",
    "# for tag, component_data_seq in grouped_by_tag.items():\n",
    "#     print(tag)\n",
    "#     for component_data in component_data_seq:\n",
    "#         print(component_data.data.describe())"
   ]
  },
  {
   "cell_type": "code",
   "execution_count": null,
   "metadata": {},
   "outputs": [],
   "source": [
    "# grouped_by_tag_collated = {\n",
    "#     key: ComponentData.collate(value) for key, value in grouped_by_tag.items()\n",
    "# }\n",
    "\n",
    "# grouped_by_tag_collated"
   ]
  }
 ],
 "metadata": {
  "kernelspec": {
   "display_name": "venv_hsdatalog",
   "language": "python",
   "name": "python3"
  },
  "language_info": {
   "codemirror_mode": {
    "name": "ipython",
    "version": 3
   },
   "file_extension": ".py",
   "mimetype": "text/x-python",
   "name": "python",
   "nbconvert_exporter": "python",
   "pygments_lexer": "ipython3",
   "version": "3.10.12"
  }
 },
 "nbformat": 4,
 "nbformat_minor": 2
}
