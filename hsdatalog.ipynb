{
 "cells": [
  {
   "cell_type": "code",
   "execution_count": 1,
   "metadata": {},
   "outputs": [
    {
     "name": "stderr",
     "output_type": "stream",
     "text": [
      "/tmp/ipykernel_292421/2675242658.py:1: DeprecationWarning: \n",
      "Pyarrow will become a required dependency of pandas in the next major release of pandas (pandas 3.0),\n",
      "(to allow more performant data types, such as the Arrow string type, and better interoperability with other libraries)\n",
      "but was not found to be installed on your system.\n",
      "If this would cause problems for you,\n",
      "please provide us feedback at https://github.com/pandas-dev/pandas/issues/54466\n",
      "        \n",
      "  import pandas as pd\n"
     ]
    }
   ],
   "source": [
    "import pandas as pd\n",
    "from st_hsdatalog.HSD.HSDatalog import HSDatalog\n",
    "# import itertools as it\n",
    "\n",
    "from acquisitioninfo import AcquisitionInfo\n",
    "from deviceconfig import Device\n",
    "from data import ComponentData\n",
    "\n",
    "LF = \"\\n\""
   ]
  },
  {
   "cell_type": "code",
   "execution_count": 2,
   "metadata": {},
   "outputs": [],
   "source": [
    "hsdatalog_factory = HSDatalog()\n"
   ]
  },
  {
   "cell_type": "code",
   "execution_count": 3,
   "metadata": {},
   "outputs": [
    {
     "name": "stdout",
     "output_type": "stream",
     "text": [
      "2024-02-19 11:10:38,256 - HSDatalogApp.st_pnpl.DTDL.device_template_manager - INFO - dtmi found in locally in base supported models\n",
      "2024-02-19 11:10:38,257 - HSDatalogApp.st_pnpl.DTDL.device_template_manager - INFO - dtmi: dtmi/appconfig/steval_mkboxpro/FP_SNS_DATALOG2_Datalog2-2.json\n"
     ]
    },
    {
     "data": {
      "text/plain": [
       "AcquisitionInfo(name='20240212_12_44_00', description='20240212_12_44_00', uuid='27675a99-3ffe-4cbc-9017-9c333f240a5a', start_time=datetime.datetime(2000, 1, 1, 1, 9, 17, tzinfo=TzInfo(UTC)), end_time=datetime.datetime(2000, 1, 1, 1, 9, 36, tzinfo=TzInfo(UTC)), tag_events=[TagEvent(label='stationary_not_upright', is_set=True, timestamp=datetime.datetime(2000, 1, 1, 1, 9, 18, 295000, tzinfo=TzInfo(UTC))), TagEvent(label='stationary_not_upright', is_set=False, timestamp=datetime.datetime(2000, 1, 1, 1, 9, 21, 917000, tzinfo=TzInfo(UTC))), TagEvent(label='stationary_upright', is_set=True, timestamp=datetime.datetime(2000, 1, 1, 1, 9, 23, 194000, tzinfo=TzInfo(UTC))), TagEvent(label='stationary_upright', is_set=False, timestamp=datetime.datetime(2000, 1, 1, 1, 9, 27, 321000, tzinfo=TzInfo(UTC))), TagEvent(label='motion', is_set=True, timestamp=datetime.datetime(2000, 1, 1, 1, 9, 28, 271000, tzinfo=TzInfo(UTC))), TagEvent(label='motion', is_set=False, timestamp=datetime.datetime(2000, 1, 1, 1, 9, 32, 139000, tzinfo=TzInfo(UTC))), TagEvent(label='shaken', is_set=True, timestamp=datetime.datetime(2000, 1, 1, 1, 9, 32, 764000, tzinfo=TzInfo(UTC))), TagEvent(label='shaken', is_set=False, timestamp=datetime.datetime(2000, 1, 1, 1, 9, 36, tzinfo=TzInfo(UTC)))], data_ext='.dat', data_fmt='HSD_2.0.0', interface=1, schema_version='2.0.0', c_type=2)"
      ]
     },
     "execution_count": 3,
     "metadata": {},
     "output_type": "execute_result"
    }
   ],
   "source": [
    "hsd = hsdatalog_factory.create_hsd(\"logs/20240212_12_44_00\")\n",
    "\n",
    "acq = AcquisitionInfo.model_validate(hsd.get_acquisition_info())\n",
    "acq"
   ]
  },
  {
   "cell_type": "code",
   "execution_count": 4,
   "metadata": {},
   "outputs": [
    {
     "data": {
      "text/plain": [
       "(Component(name='lsm6dsv16x_acc', odr=480, fs=4.0, enable=True, samples_per_ts=480, dim=3, ioffset=0.1812172532081604, measodr=487.7249450683594, usb_dps=144, sd_dps=15360, sensitivity=0.0001219999976456165, data_type='int16', sensor_category=0, c_type=0, stream_id=1, ep_id=1, unit='gForce'),\n",
       " Component(name='lsm6dsv16x_gyro', odr=3840, fs=4000.0, enable=True, samples_per_ts=1000, dim=3, ioffset=0.1812172532081604, measodr=3901.799560546875, usb_dps=1152, sd_dps=15360, sensitivity=140.0, data_type='int16', sensor_category=0, c_type=0, stream_id=0, ep_id=0, unit='mdps'))"
      ]
     },
     "execution_count": 4,
     "metadata": {},
     "output_type": "execute_result"
    }
   ],
   "source": [
    "device = Device.model_validate(hsd.get_device())\n",
    "\n",
    "components = device.get_components()\n",
    "components"
   ]
  },
  {
   "cell_type": "code",
   "execution_count": 5,
   "metadata": {},
   "outputs": [
    {
     "data": {
      "text/plain": [
       "(ComponentData(name='lsm6dsv16x_acc', component=Component(name='lsm6dsv16x_acc', odr=480, fs=4.0, enable=True, samples_per_ts=480, dim=3, ioffset=0.1812172532081604, measodr=487.7249450683594, usb_dps=144, sd_dps=15360, sensitivity=0.0001219999976456165, data_type='int16', sensor_category=0, c_type=0, stream_id=1, ep_id=1, unit='gForce'), data=           Time    A_x [g]    A_y [g]   A_z [g]  motion  shaken  \\\n",
       " 0      0.181217  -0.979782   0.023058  0.193126   False   False   \n",
       " 1      0.183268  -0.977830   0.020862  0.191784   False   False   \n",
       " 2      0.185318  -0.980026   0.023302  0.195566   False   False   \n",
       " 3      0.187368  -0.978806   0.022936  0.191784   False   False   \n",
       " 4      0.189419  -0.979660   0.021838  0.192882   False   False   \n",
       " ...         ...        ...        ...       ...     ...     ...   \n",
       " 9115  18.869910  -0.144326  -0.541070  1.514874   False    True   \n",
       " 9116  18.871960  -0.099552  -0.509716  1.437404   False    True   \n",
       " 9117  18.874010  -0.075396  -0.474580  1.363960   False    True   \n",
       " 9118  18.876061  -0.061854  -0.444934  1.299910   False    True   \n",
       " 9119  18.878111  -0.057706  -0.414678  1.250866   False   False   \n",
       " \n",
       "       stationary_not_upright  stationary_upright  \n",
       " 0                      False               False  \n",
       " 1                      False               False  \n",
       " 2                      False               False  \n",
       " 3                      False               False  \n",
       " 4                      False               False  \n",
       " ...                      ...                 ...  \n",
       " 9115                   False               False  \n",
       " 9116                   False               False  \n",
       " 9117                   False               False  \n",
       " 9118                   False               False  \n",
       " 9119                   False               False  \n",
       " \n",
       " [9120 rows x 8 columns]),\n",
       " ComponentData(name='lsm6dsv16x_gyro', component=Component(name='lsm6dsv16x_gyro', odr=3840, fs=4000.0, enable=True, samples_per_ts=1000, dim=3, ioffset=0.1812172532081604, measodr=3901.799560546875, usb_dps=1152, sd_dps=15360, sensitivity=140.0, data_type='int16', sensor_category=0, c_type=0, stream_id=0, ep_id=0, unit='mdps'), data=            Time     G_x [mdps]    G_y [mdps]      G_z [mdps]  motion  shaken  \\\n",
       " 0       0.181217   -3780.000000  -3500.000000   -33460.000000   False   False   \n",
       " 1       0.181474   -3640.000000  -3360.000000   -33180.000000   False   False   \n",
       " 2       0.181730   -3500.000000  -3220.000000   -32900.000000   False   False   \n",
       " 3       0.181986   -3500.000000  -3080.000000   -32620.000000   False   False   \n",
       " 4       0.182242   -3920.000000  -3080.000000   -32480.000000   False   False   \n",
       " ...          ...            ...           ...             ...     ...     ...   \n",
       " 72995  18.889132  655620.000000    560.000000  -304640.000000   False    True   \n",
       " 72996  18.889388  658000.000000  -1540.000000  -304080.000000   False    True   \n",
       " 72997  18.889644  660240.000000  -3780.000000  -303380.000000   False    True   \n",
       " 72998  18.889900  662200.000000  -6020.000000  -302820.000000   False    True   \n",
       " 72999  18.890157  664160.000000  -8400.000000  -302400.000000   False   False   \n",
       " \n",
       "        stationary_not_upright  stationary_upright  \n",
       " 0                       False               False  \n",
       " 1                       False               False  \n",
       " 2                       False               False  \n",
       " 3                       False               False  \n",
       " 4                       False               False  \n",
       " ...                       ...                 ...  \n",
       " 72995                   False               False  \n",
       " 72996                   False               False  \n",
       " 72997                   False               False  \n",
       " 72998                   False               False  \n",
       " 72999                   False               False  \n",
       " \n",
       " [73000 rows x 8 columns]))"
      ]
     },
     "execution_count": 5,
     "metadata": {},
     "output_type": "execute_result"
    }
   ],
   "source": [
    "with_data_frames = tuple({\"name\": sensor.name, \"sensor\": sensor, \"data_frame\": hsd.get_dataframe(sensor.name, labeled=True)} for sensor in components)\n",
    "\n",
    "component_data = tuple(\n",
    "    ComponentData(item[\"name\"], item[\"sensor\"], item[\"data_frame\"]) for item in with_data_frames\n",
    ")\n",
    "\n",
    "component_data"
   ]
  },
  {
   "cell_type": "code",
   "execution_count": 6,
   "metadata": {},
   "outputs": [
    {
     "data": {
      "text/plain": [
       "{'motion', 'shaken', 'stationary_not_upright', 'stationary_upright'}"
      ]
     },
     "execution_count": 6,
     "metadata": {},
     "output_type": "execute_result"
    }
   ],
   "source": [
    "tag_set = acq.tag_set()\n",
    "tag_set"
   ]
  },
  {
   "cell_type": "code",
   "execution_count": 7,
   "metadata": {},
   "outputs": [
    {
     "name": "stdout",
     "output_type": "stream",
     "text": [
      "stationary_not_upright\n",
      "            Time    A_x [g]   A_y [g]   A_z [g]\n",
      "count       1765       1765      1765      1765\n",
      "unique      1765         61        68        64\n",
      "top     4.913352  -0.979660  0.022936  0.193492\n",
      "freq           1         95        78        75\n",
      "            Time   G_x [mdps]  G_y [mdps] G_z [mdps]\n",
      "count      14132        14132       14132      14132\n",
      "unique     14132           13          15         12\n",
      "top     4.916684  -700.000000  280.000000   0.000000\n",
      "freq           1         3354        3051       4467\n",
      "stationary_upright\n",
      "             Time    A_x [g]   A_y [g]   A_z [g]\n",
      "count        2012       2012      2012      2012\n",
      "unique       2012         77        68        62\n",
      "top     10.317994  -0.001708  0.012810  1.005158\n",
      "freq            1         97        94       105\n",
      "             Time   G_x [mdps]  G_y [mdps]   G_z [mdps]\n",
      "count       16102        16102       16102        16102\n",
      "unique      16102           14          15           13\n",
      "top     10.320556  -560.000000  140.000000  -140.000000\n",
      "freq            1         3795        3633         4110\n",
      "motion\n",
      "             Time   A_x [g]   A_y [g]   A_z [g]\n",
      "count        1886      1886      1886      1886\n",
      "unique       1886      1614      1602      1704\n",
      "top     15.136257  0.055022  0.156526  0.667462\n",
      "freq            1         4         4         3\n",
      "             Time     G_x [mdps]    G_y [mdps]    G_z [mdps]\n",
      "count       15091          15091         15091         15091\n",
      "unique      15091           4052          3127          3008\n",
      "top     15.138563  166880.000000  11620.000000  99120.000000\n",
      "freq            1             30            40            34\n",
      "shaken\n",
      "             Time   A_x [g]    A_y [g]   A_z [g]\n",
      "count        1518      1518       1518      1518\n",
      "unique       1518      1443       1427      1491\n",
      "top     18.876061  0.545218  -0.033184  2.096204\n",
      "freq            1         3          4         2\n",
      "             Time      G_x [mdps]      G_y [mdps]     G_z [mdps]\n",
      "count       12197           12197           12197          12197\n",
      "unique      12197            8258            6412           6582\n",
      "top     18.889900  -822920.000000  -100940.000000  127120.000000\n",
      "freq            1              20              16             19\n"
     ]
    }
   ],
   "source": [
    "grouped_by_tag = {\n",
    "    key: [] for key in tag_set\n",
    "}\n",
    "\n",
    "def group_by_key_fn(data_frame: pd.DataFrame):\n",
    "    def group_by_key(index: int) -> str:\n",
    "        for tag in tag_set:\n",
    "            col = data_frame[tag]\n",
    "            \n",
    "            if col[index]:\n",
    "                return tag\n",
    "\n",
    "    return group_by_key\n",
    "\n",
    "for item in component_data:\n",
    "    data_frame = item.data\n",
    "    group_by = data_frame.groupby(by=group_by_key_fn(data_frame))\n",
    "\n",
    "    for name, data_frame in group_by:\n",
    "        grouped_by_tag[name].append(ComponentData(item.name, item.component, data_frame.drop(columns=tag_set)))\n",
    "\n",
    "for tag, component_data_seq in grouped_by_tag.items():\n",
    "    print(tag)\n",
    "    for component_data in component_data_seq:\n",
    "        print(component_data.data.describe())"
   ]
  },
  {
   "cell_type": "code",
   "execution_count": 8,
   "metadata": {},
   "outputs": [
    {
     "data": {
      "text/plain": [
       "{'stationary_not_upright':          A_x [g]   A_y [g]   A_z [g]    G_x [mdps]  G_y [mdps]   G_z [mdps]\n",
       " 544    -0.980270  0.022570  0.191296           NaN         NaN          NaN\n",
       " 545    -0.978684  0.020862  0.194224           NaN         NaN          NaN\n",
       " 546    -0.980026  0.022692  0.192272           NaN         NaN          NaN\n",
       " 547    -0.980270  0.023180  0.192760           NaN         NaN          NaN\n",
       " 548    -0.980392  0.023180  0.194590           NaN         NaN          NaN\n",
       " ...          ...       ...       ...           ...         ...          ...\n",
       " 18450        NaN       NaN       NaN   -980.000000  560.000000  -840.000000\n",
       " 18464        NaN       NaN       NaN   -980.000000  700.000000  -560.000000\n",
       " 18474        NaN       NaN       NaN   -840.000000  420.000000  -700.000000\n",
       " 18475        NaN       NaN       NaN  -1120.000000  280.000000  -700.000000\n",
       " 18476        NaN       NaN       NaN  -1260.000000  140.000000  -560.000000\n",
       " \n",
       " [2389 rows x 6 columns],\n",
       " 'stationary_upright':         A_x [g]   A_y [g]   A_z [g]    G_x [mdps]   G_y [mdps]   G_z [mdps]\n",
       " 2933   0.002928  0.013176  1.006500           NaN          NaN          NaN\n",
       " 2934   0.001952  0.013908  1.004670           NaN          NaN          NaN\n",
       " 2935   0.001342  0.014030  1.004060           NaN          NaN          NaN\n",
       " 2936   0.002074  0.014274  1.005402           NaN          NaN          NaN\n",
       " 2937   0.003782  0.013786  1.004426           NaN          NaN          NaN\n",
       " ...         ...       ...       ...           ...          ...          ...\n",
       " 38507       NaN       NaN       NaN   -840.000000  -560.000000   420.000000\n",
       " 38508       NaN       NaN       NaN   -840.000000  -280.000000   420.000000\n",
       " 38769       NaN       NaN       NaN  -1260.000000     0.000000     0.000000\n",
       " 38770       NaN       NaN       NaN  -1260.000000   140.000000     0.000000\n",
       " 38778       NaN       NaN       NaN   -700.000000   560.000000  -700.000000\n",
       " \n",
       " [2762 rows x 6 columns],\n",
       " 'motion':          A_x [g]    A_y [g]   A_z [g]     G_x [mdps]     G_y [mdps]  \\\n",
       " 5409   -0.050386   0.020862  0.971242            NaN            NaN   \n",
       " 5410    0.055022  -0.091134  1.011014            NaN            NaN   \n",
       " 5411    0.106018  -0.191784  1.019310            NaN            NaN   \n",
       " 5412    0.307440  -0.463234  1.038708            NaN            NaN   \n",
       " 5413    0.410286  -0.629032  0.991006            NaN            NaN   \n",
       " ...          ...        ...       ...            ...            ...   \n",
       " 58357        NaN        NaN       NaN  253260.000000  -58240.000000   \n",
       " 58358        NaN        NaN       NaN  252980.000000  -58240.000000   \n",
       " 58359        NaN        NaN       NaN  252700.000000  -58240.000000   \n",
       " 58360        NaN        NaN       NaN  252280.000000  -58520.000000   \n",
       " 58361        NaN        NaN       NaN  251860.000000  -58800.000000   \n",
       " \n",
       "           G_z [mdps]  \n",
       " 5409             NaN  \n",
       " 5410             NaN  \n",
       " 5411             NaN  \n",
       " 5412             NaN  \n",
       " 5413             NaN  \n",
       " ...              ...  \n",
       " 58357  115080.000000  \n",
       " 58358  116060.000000  \n",
       " 58359  116900.000000  \n",
       " 58360  117740.000000  \n",
       " 58361  118580.000000  \n",
       " \n",
       " [16964 rows x 6 columns],\n",
       " 'shaken':          A_x [g]   A_y [g]   A_z [g]     G_x [mdps]    G_y [mdps]  \\\n",
       " 7601   -0.448106  0.090768  1.037366            NaN           NaN   \n",
       " 7602   -0.455914  0.099308  1.042246            NaN           NaN   \n",
       " 7603   -0.449936  0.106750  1.052982            NaN           NaN   \n",
       " 7604   -0.437858  0.116754  1.081286            NaN           NaN   \n",
       " 7605   -0.441762  0.128344  1.097024            NaN           NaN   \n",
       " ...          ...       ...       ...            ...           ...   \n",
       " 72994        NaN       NaN       NaN  653380.000000   2800.000000   \n",
       " 72995        NaN       NaN       NaN  655620.000000    560.000000   \n",
       " 72996        NaN       NaN       NaN  658000.000000  -1540.000000   \n",
       " 72997        NaN       NaN       NaN  660240.000000  -3780.000000   \n",
       " 72998        NaN       NaN       NaN  662200.000000  -6020.000000   \n",
       " \n",
       "            G_z [mdps]  \n",
       " 7601              NaN  \n",
       " 7602              NaN  \n",
       " 7603              NaN  \n",
       " 7604              NaN  \n",
       " 7605              NaN  \n",
       " ...               ...  \n",
       " 72994  -305060.000000  \n",
       " 72995  -304640.000000  \n",
       " 72996  -304080.000000  \n",
       " 72997  -303380.000000  \n",
       " 72998  -302820.000000  \n",
       " \n",
       " [13714 rows x 6 columns]}"
      ]
     },
     "execution_count": 8,
     "metadata": {},
     "output_type": "execute_result"
    }
   ],
   "source": [
    "grouped_by_tag_collated = {\n",
    "    key: ComponentData.collate(value) for key, value in grouped_by_tag.items()\n",
    "}\n",
    "\n",
    "grouped_by_tag_collated"
   ]
  }
 ],
 "metadata": {
  "kernelspec": {
   "display_name": "venv_hsdatalog",
   "language": "python",
   "name": "python3"
  },
  "language_info": {
   "codemirror_mode": {
    "name": "ipython",
    "version": 3
   },
   "file_extension": ".py",
   "mimetype": "text/x-python",
   "name": "python",
   "nbconvert_exporter": "python",
   "pygments_lexer": "ipython3",
   "version": "3.10.12"
  }
 },
 "nbformat": 4,
 "nbformat_minor": 2
}
